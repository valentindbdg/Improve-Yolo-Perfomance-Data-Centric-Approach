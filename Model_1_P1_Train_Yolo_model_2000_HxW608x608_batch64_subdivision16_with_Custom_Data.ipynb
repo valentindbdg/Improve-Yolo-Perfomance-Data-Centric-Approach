{
  "nbformat": 4,
  "nbformat_minor": 0,
  "metadata": {
    "colab": {
      "name": "Model_1_P1_Train_Yolo_model_2000_HxW608x608_batch64_subdivision16_with_Custom_Data.ipynb",
      "provenance": [],
      "collapsed_sections": [
        "TvBzcpZ8Vs9c",
        "0W6I8uI3xany"
      ],
      "include_colab_link": true
    },
    "kernelspec": {
      "name": "python3",
      "display_name": "Python 3"
    },
    "language_info": {
      "name": "python"
    },
    "accelerator": "GPU"
  },
  "cells": [
    {
      "cell_type": "markdown",
      "metadata": {
        "id": "view-in-github",
        "colab_type": "text"
      },
      "source": [
        "<a href=\"https://colab.research.google.com/github/valentindbdg/Improve-Yolo-Perfomance-Data-Centric-Approach/blob/main/Model_1_P1_Train_Yolo_model_2000_HxW608x608_batch64_subdivision16_with_Custom_Data.ipynb\" target=\"_parent\"><img src=\"https://colab.research.google.com/assets/colab-badge.svg\" alt=\"Open In Colab\"/></a>"
      ]
    },
    {
      "cell_type": "markdown",
      "metadata": {
        "id": "FeMHi27Y16sl"
      },
      "source": [
        "# Training Yolo on Custom Data and Improve Model's Performance Using a Data-centric Approach\n",
        "## Part 1/4: Train a Yolo model on a custom dataset and output predictions dataset"
      ]
    },
    {
      "cell_type": "markdown",
      "source": [
        "*Summary*:\n",
        "\n",
        "*   **Part 1: Training a Yolo Model with a custom dataset**\n",
        "* Part 2: Improving the dataset\n",
        "* Part 3: Retrain the model with the cleaned dataset\n",
        "* Part 4: Convert model for deployement"
      ],
      "metadata": {
        "id": "CAR_fR0llRvx"
      }
    },
    {
      "cell_type": "markdown",
      "metadata": {
        "id": "LZ-7ZxOm2syv"
      },
      "source": [
        "## 1) Setting up Darknet\n",
        "\n",
        "Darknet is cloned from this repository [AlexeyAB/darknet](https://github.com/AlexeyAB/darknet.git)"
      ]
    },
    {
      "cell_type": "code",
      "metadata": {
        "id": "vyP5fdyKkoGu"
      },
      "source": [
        "#%cd /content/"
      ],
      "execution_count": null,
      "outputs": []
    },
    {
      "cell_type": "code",
      "metadata": {
        "id": "HTYE7skd1ku-"
      },
      "source": [
        "%%capture\n",
        "!git clone https://github.com/AlexeyAB/darknet.git"
      ],
      "execution_count": null,
      "outputs": []
    },
    {
      "cell_type": "code",
      "metadata": {
        "id": "csXioHxD21IX"
      },
      "source": [
        "%cd darknet\n",
        "!sed -i 's/OPENCV=0/OPENCV=1/' Makefile\n",
        "!sed -i 's/GPU=0/GPU=1/' Makefile\n",
        "!sed -i 's/CUDNN=0/CUDNN=1/' Makefile\n",
        "!sed -i 's/CUDNN_HALF=0/CUDNN_HALF=1/' Makefile\n",
        "!make\n",
        "!chmod +x ./darknet"
      ],
      "execution_count": null,
      "outputs": []
    },
    {
      "cell_type": "markdown",
      "metadata": {
        "id": "y8rjUisCoexT"
      },
      "source": [
        "## 2) Download required packages"
      ]
    },
    {
      "cell_type": "markdown",
      "metadata": {
        "id": "SiRp_7ct7b2k"
      },
      "source": [
        "### 2.1 Tensorflow"
      ]
    },
    {
      "cell_type": "code",
      "metadata": {
        "id": "OmYdc9UV34Dj"
      },
      "source": [
        "'''\n",
        "%tensorflow_version 1.x\n",
        "import tensorflow as tf\n",
        "tf.__version__\n",
        "'''"
      ],
      "execution_count": null,
      "outputs": []
    },
    {
      "cell_type": "markdown",
      "source": [
        "###2.2 Fityone"
      ],
      "metadata": {
        "id": "Zdnz7b4f-wEw"
      }
    },
    {
      "cell_type": "code",
      "source": [
        "!pip uninstall opencv_python_headless"
      ],
      "metadata": {
        "id": "xlS0RCilOr21"
      },
      "execution_count": null,
      "outputs": []
    },
    {
      "cell_type": "code",
      "source": [
        "!pip install opencv-python-headless==4.5.4.60"
      ],
      "metadata": {
        "id": "bk72T7GzOuLP"
      },
      "execution_count": null,
      "outputs": []
    },
    {
      "cell_type": "code",
      "source": [
        "!pip install fiftyone"
      ],
      "metadata": {
        "id": "_wOU_LHG-04q"
      },
      "execution_count": null,
      "outputs": []
    },
    {
      "cell_type": "markdown",
      "metadata": {
        "id": "wjl12jWZ7fJV"
      },
      "source": [
        "## 3) Download the data\n",
        "The coco-2017 [*dataset*](https://cocodataset.org/#download) was downloaded from the official website using the package Fiftyone in order to download only the data from the class \"person\". The image file and the annotation file were then added to the drive."
      ]
    },
    {
      "cell_type": "code",
      "metadata": {
        "id": "pioe4ees-0Bn"
      },
      "source": [
        "from google.colab import drive\n",
        "drive.mount('/content/drive')"
      ],
      "execution_count": null,
      "outputs": []
    },
    {
      "cell_type": "markdown",
      "source": [
        "The data is downloaded"
      ],
      "metadata": {
        "id": "dBVfYRNyRRSl"
      }
    },
    {
      "cell_type": "code",
      "source": [
        "import fiftyone as fo"
      ],
      "metadata": {
        "id": "hxntmeauvsb5"
      },
      "execution_count": null,
      "outputs": []
    },
    {
      "cell_type": "code",
      "source": [
        "import random\n",
        "\n",
        "import fiftyone.zoo as foz\n",
        "from fiftyone import ViewField as F\n",
        "\n",
        "\n",
        "classes = [\"person\"]\n",
        "\n",
        "dataset = foz.load_zoo_dataset(\n",
        "    \"coco-2017\",\n",
        "    split=\"validation\",\n",
        "    classes=classes,\n",
        "    only_matching=True,\n",
        ").filter_labels(\"ground_truth\", F(\"iscrowd\") == 0)\n",
        "\n",
        "print(dataset.count_values(\"ground_truth.detections.label\"))\n",
        "\n"
      ],
      "metadata": {
        "id": "VBSzlkOa9-Nx"
      },
      "execution_count": null,
      "outputs": []
    },
    {
      "cell_type": "markdown",
      "metadata": {
        "id": "38zYOxQlLEBd"
      },
      "source": [
        "##4) Visualize the data\n",
        "The dataset is visualized using Fiftyone"
      ]
    },
    {
      "cell_type": "code",
      "source": [
        "# View summary info about the dataset\n",
        "print(dataset)"
      ],
      "metadata": {
        "id": "55CEAqO0A4NX"
      },
      "execution_count": null,
      "outputs": []
    },
    {
      "cell_type": "code",
      "source": [
        "# Print the first few samples in the dataset\n",
        "print(dataset.head())"
      ],
      "metadata": {
        "id": "R9lgoavPA5Zv"
      },
      "execution_count": null,
      "outputs": []
    },
    {
      "cell_type": "code",
      "source": [
        "session = fo.launch_app(dataset)"
      ],
      "metadata": {
        "id": "Je57dVMECc13"
      },
      "execution_count": null,
      "outputs": []
    },
    {
      "cell_type": "markdown",
      "source": [
        "##5) Preprocess the dataset\n",
        "A different format is required for Yolo, and a conversion from COCO format to Yolo format is performed. The file is converted to .csv file so pandas can be used to transform the data. The goal is to convert the COCO format into a YOLO format. Values in the annotation Yolo file must be normalized with the width and height of each image concerned.\n",
        "For each image, a *txt* file with the same name is required. Each *txt* contains one row for each bounding box as presented below:\n",
        "`<object-class> <x_center> <y_center> <width> <height>`,\n",
        "\n",
        "with:\n",
        "* `<object-class>`: ID of the object category [ 0 to (num_of_classes - 1) ] ;\n",
        "* `<x_center>` and `<y_center>`: the x and y coordinates of the center of the bounding box ;\n",
        "* `<width>` and `<height>`: the width and height of the bounding box.\n",
        "\n",
        "Coordinates are normalized with the width and height of the image.\n",
        "\n",
        "The package Fiftyone is used for this task as it is possible to conveniently convert one format into another"
      ],
      "metadata": {
        "id": "gol_R5wWghKJ"
      }
    },
    {
      "cell_type": "code",
      "source": [
        "# convert and export to disk the labels of interest\n",
        "dataset.export(\n",
        "    export_dir=\"/content/yolodataset\",\n",
        "    dataset_type=fo.types.YOLOv4Dataset,\n",
        "    split=\"validation\",\n",
        "    classes=classes,\n",
        "    label_field=\"ground_truth\",\n",
        ")"
      ],
      "metadata": {
        "id": "XxFYK82uBWz4"
      },
      "execution_count": null,
      "outputs": []
    },
    {
      "cell_type": "markdown",
      "source": [
        "The ground_truth dataset is also exported and saved to the drive:"
      ],
      "metadata": {
        "id": "lyfHenWt92Vz"
      }
    },
    {
      "cell_type": "code",
      "source": [
        "# convert and export to disk the labels of interest\n",
        "dataset.export(\n",
        "    export_dir=\"/content/drive/MyDrive/yolodataset\",\n",
        "    dataset_type=fo.types.YOLOv4Dataset,\n",
        "    split=\"validation\",\n",
        "    classes=classes,\n",
        "    label_field=\"ground_truth\",\n",
        ")"
      ],
      "metadata": {
        "id": "A_8moaJM90TT"
      },
      "execution_count": null,
      "outputs": []
    },
    {
      "cell_type": "code",
      "source": [
        "# Now load ground truth labels into a new dataset\n",
        "dataset = fo.Dataset.from_dir(\n",
        "    dataset_dir=\"/content/drive/MyDrive/yolodataset\",\n",
        "    dataset_type=fo.types.YOLOv4Dataset,\n",
        "    label_field=\"ground_truth\",\n",
        ")"
      ],
      "metadata": {
        "id": "OnApSALrBjxv"
      },
      "execution_count": null,
      "outputs": []
    },
    {
      "cell_type": "code",
      "source": [
        "# View summary info about the dataset\n",
        "print(dataset)"
      ],
      "metadata": {
        "id": "ucbSY61gEzCK"
      },
      "execution_count": null,
      "outputs": []
    },
    {
      "cell_type": "code",
      "source": [
        "# Print the first few samples in the dataset\n",
        "print(dataset.head())"
      ],
      "metadata": {
        "id": "6foxm6pzEzCK"
      },
      "execution_count": null,
      "outputs": []
    },
    {
      "cell_type": "code",
      "source": [
        "session = fo.launch_app(dataset)"
      ],
      "metadata": {
        "id": "IqRyL2psEzCL"
      },
      "execution_count": null,
      "outputs": []
    },
    {
      "cell_type": "markdown",
      "metadata": {
        "id": "K76K1mJ5u4NF"
      },
      "source": [
        "## 6) Prepare the data for training\n",
        "* The pre-trained weights are downloaded. \n",
        "* *obj.names*: the text labels of our objects,\n",
        "* *obj.data*: the paths to files that define the split + some additional info,\n",
        "* and *cfg*: the file which contains the configuration for our model."
      ]
    },
    {
      "cell_type": "markdown",
      "metadata": {
        "id": "TxiE9tvVBan-"
      },
      "source": [
        "### 6.1 Train/validation/test split\n",
        "\n",
        "A train/validation/test split is performed. Three .txt files are created with paths to the images: \n",
        "* *train.txt*: paths to the images on which the model is trained ; \n",
        "* *val.txt*: paths to the images used for evaluation of the fit during training ;\n",
        "* *test.txt*: paths to the images used for evaluation of the final model (not seen during training).\n",
        "\n",
        "A 80% - 20% split for traning and test set is performed. The training set is split again into a validation set and actual train set. Since the whole data is actually traied on the val2017 datasplit and only has more than 2000 images, to allocate a few more images for training, the data is split as described here: \n",
        "* train 80% ;\n",
        "* val 10% ; \n",
        "* test 10%."
      ]
    },
    {
      "cell_type": "markdown",
      "source": [
        "From txt to csv"
      ],
      "metadata": {
        "id": "iCyv9zGIG6Mm"
      }
    },
    {
      "cell_type": "markdown",
      "source": [
        "Copy yolo ground truth dataset to local directory /content:"
      ],
      "metadata": {
        "id": "GHJ-M9pEwS8M"
      }
    },
    {
      "cell_type": "code",
      "source": [
        "!cp -av '/content/drive/MyDrive/yolodataset' '/content/yolodataset'"
      ],
      "metadata": {
        "id": "BgrO-g3sv9Sb"
      },
      "execution_count": null,
      "outputs": []
    },
    {
      "cell_type": "code",
      "source": [
        "import pandas as pd\n",
        "df= pd.read_csv (\"/content/yolodataset/images.txt\")"
      ],
      "metadata": {
        "id": "z5D_Z_qEG6qe"
      },
      "execution_count": null,
      "outputs": []
    },
    {
      "cell_type": "code",
      "source": [
        "df['Frame'] = df['data/000000000139.jpg']"
      ],
      "metadata": {
        "id": "hVyJZxwZIQ_m"
      },
      "execution_count": null,
      "outputs": []
    },
    {
      "cell_type": "code",
      "source": [
        "df['Frame']=df['Frame'].str[5:]"
      ],
      "metadata": {
        "id": "_qkIbIoFJgFm"
      },
      "execution_count": null,
      "outputs": []
    },
    {
      "cell_type": "markdown",
      "metadata": {
        "id": "sabgPUiKD97F"
      },
      "source": [
        "Shuffle the data:"
      ]
    },
    {
      "cell_type": "code",
      "metadata": {
        "id": "enayDSCcprng"
      },
      "source": [
        "import random\n",
        "ids = df[\"Frame\"].unique().tolist()\n",
        "random.shuffle(ids)"
      ],
      "execution_count": null,
      "outputs": []
    },
    {
      "cell_type": "markdown",
      "metadata": {
        "id": "cz9hEkh5EAxQ"
      },
      "source": [
        "Define the ratios:"
      ]
    },
    {
      "cell_type": "code",
      "metadata": {
        "id": "1yxZWiFG_uox"
      },
      "source": [
        "total = len(ids)\n",
        "limit_train = int(total * 0.8)\n",
        "limit_val = int(total * 0.9)"
      ],
      "execution_count": null,
      "outputs": []
    },
    {
      "cell_type": "markdown",
      "metadata": {
        "id": "wZou6HJGEDdq"
      },
      "source": [
        "Create the .txt files:"
      ]
    },
    {
      "cell_type": "code",
      "metadata": {
        "id": "wzSTqxAPAqxA"
      },
      "source": [
        "ds_path = '/content/val2017'\n",
        "def write_list(array, fname):\n",
        "  textfile = open(fname, \"w\")\n",
        "  for element in array:\n",
        "    textfile.write(f\"{ds_path}/{element}\\n\")\n",
        "  textfile.close()"
      ],
      "execution_count": null,
      "outputs": []
    },
    {
      "cell_type": "code",
      "metadata": {
        "id": "gqJavfj2_86t"
      },
      "source": [
        "ids_train = ids[:limit_train]\n",
        "ids_val = ids[limit_train:limit_val]\n",
        "ids_test = ids[limit_val:]"
      ],
      "execution_count": null,
      "outputs": []
    },
    {
      "cell_type": "code",
      "metadata": {
        "id": "gJVqYdn4ro8W"
      },
      "source": [
        "%cd /content/\n",
        "!mkdir data"
      ],
      "execution_count": null,
      "outputs": []
    },
    {
      "cell_type": "code",
      "source": [
        "!ls"
      ],
      "metadata": {
        "id": "FFb4QMkz-rs-"
      },
      "execution_count": null,
      "outputs": []
    },
    {
      "cell_type": "code",
      "metadata": {
        "id": "yE9WFVVgAzC2"
      },
      "source": [
        "write_list(ids_train, \"/content/data/train.txt\")\n",
        "write_list(ids_val, \"/content/data/val.txt\")\n",
        "write_list(ids_test, \"/content/data/test.txt\")"
      ],
      "execution_count": null,
      "outputs": []
    },
    {
      "cell_type": "markdown",
      "source": [
        "*train.txt*, *val.txt*, and *test.txt* define the train/val/test split where each line provides the relative path to the image in this split."
      ],
      "metadata": {
        "id": "T0fFX856azhp"
      }
    },
    {
      "cell_type": "code",
      "metadata": {
        "id": "2HpsQUpju_8z"
      },
      "source": [
        "%cd /content/"
      ],
      "execution_count": null,
      "outputs": []
    },
    {
      "cell_type": "code",
      "source": [
        "import shutil\n",
        "shutil.copytree('/content/yolodataset/data', '/content/val2017')"
      ],
      "metadata": {
        "id": "tyK8NU2hM0Ol"
      },
      "execution_count": null,
      "outputs": []
    },
    {
      "cell_type": "markdown",
      "metadata": {
        "id": "rH5RubOtIhl7"
      },
      "source": [
        "### 6.2 Downloading the weights"
      ]
    },
    {
      "cell_type": "markdown",
      "metadata": {
        "id": "m_KoW-51waKk"
      },
      "source": [
        "Download weights for YoloV3-tiny and for YoloV4-tiny."
      ]
    },
    {
      "cell_type": "code",
      "metadata": {
        "id": "pHyOgLmQvKxB"
      },
      "source": [
        "!wget https://github.com/AlexeyAB/darknet/releases/download/darknet_yolo_v4_pre/yolov4-tiny.conv.29\n",
        "!wget https://github.com/GotG/yolotinyv3_medmask_demo/raw/master/yolov3-tiny.conv.15\n"
      ],
      "execution_count": null,
      "outputs": []
    },
    {
      "cell_type": "markdown",
      "metadata": {
        "id": "TvBzcpZ8Vs9c"
      },
      "source": [
        "### 6.3 obj.names\n",
        "\n",
        "We create the `obj.names`. Each line must be its own text label. We use them straight from the *filter_categories* object, but you can also change the code to provide them in an array, like seen in the comment below."
      ]
    },
    {
      "cell_type": "code",
      "metadata": {
        "id": "67kq4xDLxCHC"
      },
      "source": [
        "labels_path = '/content/obj.names'\n",
        "\n",
        "# make a list of your labels\n",
        "# labels = ['person']\n",
        "filter_categories = ['person']\n",
        "labels = filter_categories\n",
        "\n",
        "with open(labels_path, 'w') as f:\n",
        "    f.write('\\n'.join(labels))\n",
        "\n",
        "#check that the labels file is correct\n",
        "!cat $labels_path"
      ],
      "execution_count": null,
      "outputs": []
    },
    {
      "cell_type": "markdown",
      "metadata": {
        "id": "0W6I8uI3xany"
      },
      "source": [
        "### 6.4 obj.data\n",
        "We set up `obj.data`, which needs to include the number of classes, paths to train, validation, and test *txts*, path to the *obj.names*, and the name of the folder were weights will be saved.\n",
        "\n",
        "**the printed lines must match the data**"
      ]
    },
    {
      "cell_type": "code",
      "metadata": {
        "id": "fwRcypwSxdnw"
      },
      "source": [
        "import re\n",
        "objdata = '/content/obj.data'\n",
        "\n",
        "#the number of classes is equal to the number of labels\n",
        "num_classes = len(labels)   \n",
        "\n",
        "with open(objdata, 'w') as f:\n",
        "  f.write(f\"classes = {num_classes}\\n\")\n",
        "  f.write(f\"train = /content/data/train.txt\\n\")\n",
        "  f.write(f\"valid = /content/data/val.txt\\n\")\n",
        "  f.write(f\"names = /content/obj.names\\n\")\n",
        "  f.write(f\"backup = backup/\")\n",
        "\n",
        "!cat $objdata"
      ],
      "execution_count": null,
      "outputs": []
    },
    {
      "cell_type": "markdown",
      "metadata": {
        "id": "oVPIv4lGxKge"
      },
      "source": [
        "Another file for evaluation is created. As currently there is no support for test set straight from the obj.data, a copy is created and \"valid\" is set to the test set."
      ]
    },
    {
      "cell_type": "code",
      "metadata": {
        "id": "bcFUTeNjxGK6"
      },
      "source": [
        "import re\n",
        "objdata = '/content/obj_test.data'\n",
        "\n",
        "#the number of classes is equal to the number of labels\n",
        "num_classes = len(labels)   \n",
        "\n",
        "with open(objdata, 'w') as f:\n",
        "  f.write(f\"classes = {num_classes}\\n\")\n",
        "  f.write(f\"train = /content/data/train.txt\\n\")\n",
        "  f.write(f\"valid = /content/data/test.txt\\n\")\n",
        "  f.write(f\"names = /content/obj.names\\n\")\n",
        "  f.write(f\"backup = backup/\")\n",
        "\n",
        "!cat $objdata"
      ],
      "execution_count": null,
      "outputs": []
    },
    {
      "cell_type": "markdown",
      "metadata": {
        "id": "qsCSchhSv2XB"
      },
      "source": [
        "### 6.5 .cfg file\n",
        "\n",
        "The config file .cfg is copied from the repository and edited to match with the dataset. The Yolo version is chosen in this section.\n",
        "\n",
        "[yolov4-tiny-custom.cfg](https://github.com/AlexeyAB/darknet/blob/master/cfg/yolov4-tiny-custom.cfg) is used for yolov4 version since it contains correctly set up masks in the `[yolo]` layers."
      ]
    },
    {
      "cell_type": "code",
      "metadata": {
        "id": "5vChP4mBvMsV"
      },
      "source": [
        "!cp /content/darknet/cfg/yolov3-tiny.cfg /content/yolov3-tiny.cfg\n",
        "!cp /content/darknet/cfg/yolov4-tiny-custom.cfg /content/yolov4-tiny.cfg"
      ],
      "execution_count": null,
      "outputs": []
    },
    {
      "cell_type": "markdown",
      "metadata": {
        "id": "i0Qyq4ofSh-V"
      },
      "source": [
        "####6.5.1 Choosing Yolo version\n",
        "\n",
        "Choose either Yolo v3 or v4"
      ]
    },
    {
      "cell_type": "code",
      "metadata": {
        "id": "jZf2NK_VShmz"
      },
      "source": [
        "yolo_version = 3\n",
        "cfg_file = f'/content/yolov{yolo_version}-tiny.cfg'\n",
        "cfg_file"
      ],
      "execution_count": null,
      "outputs": []
    },
    {
      "cell_type": "code",
      "metadata": {
        "id": "YVNEYAGVXAXE"
      },
      "source": [
        "if yolo_version == 4:\n",
        "  weights_file = '/content/yolov4-tiny.conv.29'\n",
        "else:\n",
        "  weights_file = '/content/yolov3-tiny.conv.15'"
      ],
      "execution_count": null,
      "outputs": []
    },
    {
      "cell_type": "code",
      "metadata": {
        "id": "4VmytW_McQJd"
      },
      "source": [
        "weights_file"
      ],
      "execution_count": null,
      "outputs": []
    },
    {
      "cell_type": "markdown",
      "metadata": {
        "id": "u-UZtG2ryNCg"
      },
      "source": [
        "#### 6.5.2 Setting up the parameters\n",
        "\n",
        "Square input sizes are chosen but a custom height and width can be used, as long as both height and width are divisible by 32. \n",
        "Preferably, the input size must be similar to the original image size to keep aspect ratio, but use a smaller input for faster inference.\n",
        "\n",
        "Other parameters in the .cfg files are set according to [this tutorial](https://github.com/AlexeyAB/darknet#how-to-train-to-detect-your-custom-objects). "
      ]
    },
    {
      "cell_type": "code",
      "metadata": {
        "id": "MQ2nRPjozH2t"
      },
      "source": [
        "# must be divisible by 32\n",
        "yolo_height = 608 #608\n",
        "yolo_width = 608 #608\n",
        "\n",
        "# set the number of max_batches - min 2000 per class:\n",
        "max_batch = 2000 #8000\n",
        "# calculate the 2 steps values:\n",
        "step1 = 0.8 * max_batch\n",
        "step2 = 0.9 * max_batch\n",
        "\n",
        "# we also need to adjust the number of classes and a parameter called filter size \n",
        "# that are both is inside the model structure\n",
        "\n",
        "num_classes = len(labels)\n",
        "num_filters = (num_classes + 5) * 3\n",
        "\n",
        "batch = 64\n",
        "# If out of memory error, increase subdivision (8, 16, 32, or 64) \n",
        "subdivisions = 16"
      ],
      "execution_count": null,
      "outputs": []
    },
    {
      "cell_type": "code",
      "metadata": {
        "id": "FvRYaUVWyOyp"
      },
      "source": [
        "with open(cfg_file) as f:\n",
        "    s = f.read()\n",
        "# (re.sub('[a-z]*@', 'ABC@', s))\n",
        "s = re.sub('max_batches = \\d*','max_batches = '+str(max_batch),s)\n",
        "s = re.sub('steps=\\d*,\\d*','steps='+\"{:.0f}\".format(step1)+','+\"{:.0f}\".format(step2),s)\n",
        "s = re.sub('classes=\\d*','classes='+str(num_classes),s)\n",
        "s = re.sub('pad=1\\nfilters=\\d*','pad=1\\nfilters='+\"{:.0f}\".format(num_filters),s)\n",
        "s = re.sub('batch=\\d*', 'batch='+str(batch), s)\n",
        "s = re.sub('subdivisions=\\d*', 'subdivisions='+str(subdivisions), s)\n",
        "s = re.sub('height=\\d*', 'height='+str(yolo_height), s)\n",
        "s = re.sub('width=\\d*', 'width='+str(yolo_width), s)\n",
        "\n",
        "# pad=1\\nfilters=\\d\\d\n",
        "# s = re.sub('CUDNN=0','CUDNN=1',s)\n",
        "# s = re.sub('OPENCV=0','OPENCV=1',s)\n",
        "\n",
        "with open(cfg_file, 'w') as f:\n",
        "  # s = re.sub('GPU=0','GPU=1',s)\n",
        "  f.write(s)\n",
        "\n"
      ],
      "execution_count": null,
      "outputs": []
    },
    {
      "cell_type": "markdown",
      "metadata": {
        "id": "imPz_DpQU44I"
      },
      "source": [
        "We inspect the config file and check whether the parameters were set correctly."
      ]
    },
    {
      "cell_type": "code",
      "metadata": {
        "id": "GqTT2SGUzQLD"
      },
      "source": [
        "!head -n 24 $cfg_file"
      ],
      "execution_count": null,
      "outputs": []
    },
    {
      "cell_type": "markdown",
      "metadata": {
        "id": "pfMmGtKJVIJe"
      },
      "source": [
        "We also inspect the last few lines to see if the number of filters in [convolutional] before [yolo] is correct."
      ]
    },
    {
      "cell_type": "code",
      "metadata": {
        "id": "idcT6Brr1YID"
      },
      "source": [
        "!tail -n 64  $cfg_file"
      ],
      "execution_count": null,
      "outputs": []
    },
    {
      "cell_type": "markdown",
      "metadata": {
        "id": "xjntEk5-16_o"
      },
      "source": [
        "#### 6.5.3 Anchors\n",
        "\n",
        "Anchors can be recalculated to improve detection. The below code only contains information on how to calculate them, and the config file must be edited accordingly. \n",
        "Tutorials available [*here*](https://github.com/AlexeyAB/darknet#how-to-train-to-detect-your-custom-objects) and using [*this issue*](https://github.com/AlexeyAB/darknet/issues/7856)."
      ]
    },
    {
      "cell_type": "code",
      "metadata": {
        "id": "N8EKMxMC24Wc"
      },
      "source": [
        "#%cd /content/darknet/"
      ],
      "execution_count": null,
      "outputs": []
    },
    {
      "cell_type": "code",
      "metadata": {
        "id": "Le1nXBuc17sf"
      },
      "source": [
        "#!./darknet detector calc_anchors /content/obj.data -num_of_clusters 6 -width 320 -height 320"
      ],
      "execution_count": null,
      "outputs": []
    },
    {
      "cell_type": "code",
      "source": [
        ""
      ],
      "metadata": {
        "id": "yUqz_bVsMtbd"
      },
      "execution_count": null,
      "outputs": []
    },
    {
      "cell_type": "markdown",
      "source": [
        "## 7) Export to disk the yolo label files\n",
        "Now that the ground truth labels of all other classes except \"person\" has been removed and converted to a YOLO format, the annotation file is saved to the drive to be used later in the second notebook of this project: (Part 2)\n",
        "\n"
      ],
      "metadata": {
        "id": "qXCaIR1B_C4M"
      }
    },
    {
      "cell_type": "markdown",
      "source": [
        "####7.1 Create a new folders based on the expected format of Fiftyone\n",
        "In Fiftyone, datasets of this type are read in the following format:\n",
        "```\n",
        "<dataset_dir>/\n",
        "    obj.names\n",
        "    images.txt\n",
        "    data/\n",
        "        <uuid1>.<ext>\n",
        "        <uuid1>.txt\n",
        "        <uuid2>.<ext>\n",
        "        <uuid2>.txt\n",
        "        ...\n",
        "```\n",
        "\n",
        "where obj.names contains the object class labels:\n",
        "```\n",
        "<label-0>\n",
        "<label-1>\n",
        "'''\n",
        "```\n",
        "\n",
        "and images.txt contains the list of images in data/:\n",
        "```\n",
        "data/<uuid1>.<ext>\n",
        "data/<uuid2>.<ext>\n",
        "...\n",
        "```\n",
        "\n",
        "The image paths in images.txt can be specified as either relative (to the location of file) or as absolute paths. Alternatively, this file can be omitted, in which case the data/ directory is listed to determine the available images.\n",
        "\n",
        "The TXT files in data/ are space-delimited files where each row corresponds to an object in the image of the same name, in the following format:\n",
        "\n",
        "<target> <x-center> <y-center> <width> <height>\n",
        "where <target> is the zero-based integer index of the object class label from obj.names and the bounding box coordinates are expressed as relative coordinates in [0, 1] x [0, 1].\n",
        "\n",
        "Unlabeled images have no corresponding TXT file in data/."
      ],
      "metadata": {
        "id": "ujT_i4z2EYn5"
      }
    },
    {
      "cell_type": "markdown",
      "source": [
        "###7.2 Save the files to the new folders\n",
        "\n"
      ],
      "metadata": {
        "id": "vNLwSvyUEdRX"
      }
    },
    {
      "cell_type": "code",
      "source": [
        "'''\n",
        "import os\n",
        "FOLDER_PATH = 'val2017'\n",
        "ROOT_PATH = '/content/'\n",
        "print(len(os.listdir(os.path.join(ROOT_PATH, FOLDER_PATH))))\n",
        "'''"
      ],
      "metadata": {
        "id": "8LCRPriRF-sO"
      },
      "execution_count": null,
      "outputs": []
    },
    {
      "cell_type": "markdown",
      "metadata": {
        "id": "FXbmMRiAWt2B"
      },
      "source": [
        "## 8) Training\n",
        "\n",
        "The `-map` flag is used to get the best weights based on the highest mAP on the validation set in order to avoid overfitting.\n",
        "The best weights are saved in /content/darknet/backup/ directory with suffix *best*."
      ]
    },
    {
      "cell_type": "code",
      "metadata": {
        "id": "RlT4FX0G7U3Y"
      },
      "source": [
        "%cd /content/darknet/"
      ],
      "execution_count": null,
      "outputs": []
    },
    {
      "cell_type": "markdown",
      "metadata": {
        "id": "Brv3bRgzdPI-"
      },
      "source": [
        "Training:"
      ]
    },
    {
      "cell_type": "code",
      "metadata": {
        "id": "gDdF85je2h0Y"
      },
      "source": [
        "!./darknet detector train /content/obj.data $cfg_file $weights_file -dont_show -ext_output -map"
      ],
      "execution_count": null,
      "outputs": []
    },
    {
      "cell_type": "markdown",
      "metadata": {
        "id": "eKXnkgfmX6nV"
      },
      "source": [
        "## 9) Testing and evaluation\n",
        "\n",
        "The best weights are used to evaluate the model on the test data set"
      ]
    },
    {
      "cell_type": "code",
      "metadata": {
        "id": "Ni9BQIyrR2i9"
      },
      "source": [
        "weights_best = \"/content/darknet/backup/yolov4-tiny_best.weights\"\n",
        "if yolo_version == 3:\n",
        "  weights_best = \"/content/darknet/backup/yolov3-tiny_best.weights\""
      ],
      "execution_count": null,
      "outputs": []
    },
    {
      "cell_type": "code",
      "metadata": {
        "id": "5RfGaPV0cm8M"
      },
      "source": [
        "weights_best"
      ],
      "execution_count": null,
      "outputs": []
    },
    {
      "cell_type": "markdown",
      "source": [
        "Copy the best weights to the drive to save it"
      ],
      "metadata": {
        "id": "AIlze8d6cEtY"
      }
    },
    {
      "cell_type": "code",
      "source": [
        "!cp '/content/darknet/backup/yolov3-tiny_best.weights' '/content/drive/MyDrive/'"
      ],
      "metadata": {
        "id": "gEr1qCr8cD5C"
      },
      "execution_count": null,
      "outputs": []
    },
    {
      "cell_type": "markdown",
      "metadata": {
        "id": "WgORqfqOX_XM"
      },
      "source": [
        "### 9.1 Testing on a random image"
      ]
    },
    {
      "cell_type": "markdown",
      "metadata": {
        "id": "aATwYZ2vSSYP"
      },
      "source": [
        "Test and visualization of the model on a selected image:"
      ]
    },
    {
      "cell_type": "code",
      "metadata": {
        "id": "QxWcX6xV3tlK"
      },
      "source": [
        "!./darknet detector test /content/obj.data  $cfg_file  $weights_best /content/val2017/000000371552.jpg -ext_output"
      ],
      "execution_count": null,
      "outputs": []
    },
    {
      "cell_type": "markdown",
      "metadata": {
        "id": "urg4y-FFSYXO"
      },
      "source": [
        "The prediction is saved to *predictions.jpg*."
      ]
    },
    {
      "cell_type": "code",
      "metadata": {
        "id": "BV2pYCnELCD8"
      },
      "source": [
        "from google.colab.patches import cv2_imshow\n",
        "import cv2\n",
        "!./darknet detector calc_anchors /content/obj.data -num_of_clusters 6 -width 608 -height 608\n",
        "\n",
        "img = cv2.imread(\"predictions.jpg\")\n",
        "cv2_imshow(img)"
      ],
      "execution_count": null,
      "outputs": []
    },
    {
      "cell_type": "markdown",
      "metadata": {
        "id": "vBhwsBCDYEQ7"
      },
      "source": [
        "### 9.2 Evaluation on a test data set\n",
        "\n",
        "The second `obj_test.data` file is used, where `valid` was set to `test.txt`. `map` is used with the .cfg file and the best weights to run the evaluation on that test set."
      ]
    },
    {
      "cell_type": "code",
      "source": [
        "!./darknet detector map /content/obj_test.data $cfg_file $weights_best -points 0"
      ],
      "metadata": {
        "id": "r1AsHpt4tf66"
      },
      "execution_count": null,
      "outputs": []
    },
    {
      "cell_type": "markdown",
      "metadata": {
        "id": "E5CXIgkKyfZO"
      },
      "source": [
        "The metrics used are detailed in the last few lines:\n",
        "* Precision ;\n",
        "* Recall ;\n",
        "* F1 score ;\n",
        "* TP ;\n",
        "* FP ;\n",
        "* FN ; \n",
        "* Average IoU."
      ]
    },
    {
      "cell_type": "markdown",
      "source": [
        "###9.3 Evaluate on a test set and output the prediction dataset"
      ],
      "metadata": {
        "id": "4HkANIuvFRfx"
      }
    },
    {
      "cell_type": "code",
      "source": [
        "!./darknet detector test /content/obj_test.data $cfg_file $weights_best -dont_show -ext_output </content/data/test.txt> result2.txt"
      ],
      "metadata": {
        "id": "Qj5dM8fAtity"
      },
      "execution_count": null,
      "outputs": []
    },
    {
      "cell_type": "markdown",
      "source": [
        "We create a prediction using \"valid\" to get a file with the output results that can be parsed more easily than if using \"test\":"
      ],
      "metadata": {
        "id": "34rhdkWP38XS"
      }
    },
    {
      "cell_type": "code",
      "source": [
        "!./darknet detector valid /content/obj_test.data $cfg_file $weights_best -dont_show -ext_output </content/data/test.txt> result3.txt"
      ],
      "metadata": {
        "id": "ormXntoKuJqv"
      },
      "execution_count": null,
      "outputs": []
    },
    {
      "cell_type": "markdown",
      "metadata": {
        "id": "x3tTfcis4Q56"
      },
      "source": [
        "## 10) Saving model weights\n",
        "\n",
        "The first YOLO model was succesfully trained. The weights are downloaded and saved so the model does not have to be trained again."
      ]
    },
    {
      "cell_type": "code",
      "source": [
        "from google.colab import files\n",
        "files.download(weights_best)"
      ],
      "metadata": {
        "id": "yeeMLHJmsm9y"
      },
      "execution_count": null,
      "outputs": []
    },
    {
      "cell_type": "markdown",
      "source": [
        "in the file data/train.txt you should have paths to images\n",
        "in the file result.txt will be results of detections"
      ],
      "metadata": {
        "id": "M9fl2xRlKv3_"
      }
    },
    {
      "cell_type": "markdown",
      "source": [
        "## 11) Improvement\n",
        "Improvements can be performed as suggested in [AlexeyAB/darknet](https://github.com/AlexeyAB/darknet#how-to-improve-object-detection) repository. \n",
        "In Part 2, improvements are performed by improving the dataset."
      ],
      "metadata": {
        "id": "_Akt6AiMlcD1"
      }
    },
    {
      "cell_type": "markdown",
      "source": [
        "## Save model folders and predictions to google drive"
      ],
      "metadata": {
        "id": "wlVkz7vhxyXb"
      }
    },
    {
      "cell_type": "code",
      "source": [
        "%cd /content/drive/MyDrive/"
      ],
      "metadata": {
        "id": "SY-fo3Hd6tWf"
      },
      "execution_count": null,
      "outputs": []
    },
    {
      "cell_type": "code",
      "source": [
        "!mkdir yolov3"
      ],
      "metadata": {
        "id": "F1TAf5wL60jN"
      },
      "execution_count": null,
      "outputs": []
    },
    {
      "cell_type": "code",
      "source": [
        "!cp '/content/yolov3-tiny.cfg' '/content/drive/MyDrive/yolov3'"
      ],
      "metadata": {
        "id": "5IH5gbyvx2WS"
      },
      "execution_count": null,
      "outputs": []
    },
    {
      "cell_type": "code",
      "source": [
        "!cp '/content/obj.names' '/content/drive/MyDrive/yolov3'"
      ],
      "metadata": {
        "id": "1Uylz3_tydRu"
      },
      "execution_count": null,
      "outputs": []
    },
    {
      "cell_type": "code",
      "source": [
        "!cp '/content/darknet/result2.txt' '/content/drive/MyDrive/yolov3' "
      ],
      "metadata": {
        "id": "8YofRwS315O4"
      },
      "execution_count": null,
      "outputs": []
    },
    {
      "cell_type": "code",
      "source": [
        "!cp -av '/content/data' '/content/drive/MyDrive/yolov3' "
      ],
      "metadata": {
        "id": "NOGxYwtdtUXN"
      },
      "execution_count": null,
      "outputs": []
    },
    {
      "cell_type": "code",
      "source": [
        "%cd /content/drive/MyDrive/"
      ],
      "metadata": {
        "id": "Tav0TNQC2zRw"
      },
      "execution_count": null,
      "outputs": []
    },
    {
      "cell_type": "code",
      "source": [
        "!rm -rf yolodataset"
      ],
      "metadata": {
        "id": "nKt6joCE30Aj"
      },
      "execution_count": null,
      "outputs": []
    },
    {
      "cell_type": "code",
      "source": [
        "!cp -av '/content/yolodataset' '/content/drive/MyDrive/yolodataset' "
      ],
      "metadata": {
        "id": "ipgRs5jo0cfd"
      },
      "execution_count": null,
      "outputs": []
    },
    {
      "cell_type": "code",
      "source": [
        ""
      ],
      "metadata": {
        "id": "_f6pIKAwEG-P"
      },
      "execution_count": null,
      "outputs": []
    }
  ]
}